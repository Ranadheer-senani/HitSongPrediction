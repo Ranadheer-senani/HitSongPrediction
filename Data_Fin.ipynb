{
 "cells": [
  {
   "cell_type": "code",
   "execution_count": 1,
   "id": "58a68f6e",
   "metadata": {},
   "outputs": [],
   "source": [
    "import pandas as pd\n",
    "import numpy as np\n",
    "from scipy import stats\n",
    "from sklearn.preprocessing import MinMaxScaler"
   ]
  },
  {
   "cell_type": "code",
   "execution_count": 2,
   "id": "af813c14",
   "metadata": {},
   "outputs": [],
   "source": [
    "songs_df = pd.read_csv(\"data.csv\")"
   ]
  },
  {
   "cell_type": "code",
   "execution_count": 6,
   "id": "b16c0a5d",
   "metadata": {},
   "outputs": [
    {
     "name": "stdout",
     "output_type": "stream",
     "text": [
      "                  Artist              Title  Top100  Danceability  Energy  \\\n",
      "0            linkin park         in the end       0         0.556   0.864   \n",
      "1      the white stripes  seven nation army       0         0.737   0.463   \n",
      "2  red hot chili peppers         by the way       0         0.618   0.938   \n",
      "3            evanescence   bring me to life       0         0.331   0.943   \n",
      "4             papa roach        last resort       0         0.589   0.890   \n",
      "\n",
      "   Liveness     Tempo                                             lyrics  \\\n",
      "0     0.209  0.345391  It starts with\\nOne thing I don't know why\\nIt...   \n",
      "1     0.255  0.455924  I'm gonna fight 'em all\\nA seven nation army c...   \n",
      "2     0.167  0.264647  Standing in line\\nTo see the show tonight\\nAnd...   \n",
      "3     0.242  0.283270  How can you see into my eyes, like open doors?...   \n",
      "4     0.201  0.259592  Cut my life into pieces\\nThis is my last resor...   \n",
      "\n",
      "   explicit  Release_Year        Genre  \n",
      "0         0          2000        metal  \n",
      "1         1          2003         rock  \n",
      "2         1          2002         rock  \n",
      "3         0          2003  alternative  \n",
      "4         1          2001        metal  \n"
     ]
    }
   ],
   "source": [
    "print(songs_df.head(5))"
   ]
  },
  {
   "cell_type": "code",
   "execution_count": 5,
   "id": "930d4079",
   "metadata": {},
   "outputs": [],
   "source": [
    "songs_df['Tempo'] = MinMaxScaler().fit_transform(np.array(songs_df['Tempo']).reshape(-1,1))"
   ]
  },
  {
   "cell_type": "code",
   "execution_count": 7,
   "id": "f0d7de3b",
   "metadata": {},
   "outputs": [
    {
     "name": "stdout",
     "output_type": "stream",
     "text": [
      "['metal' 'rock' 'alternative' 'pop' 'rap' 'jazz' 'reggae' 'country'\n",
      " 'classical' 'edm']\n"
     ]
    }
   ],
   "source": [
    "print(songs_df['Genre'].unique())"
   ]
  },
  {
   "cell_type": "code",
   "execution_count": 8,
   "id": "3702374b",
   "metadata": {},
   "outputs": [
    {
     "data": {
      "text/plain": [
       "pop            4402\n",
       "rap            1739\n",
       "rock           1593\n",
       "country         592\n",
       "metal           286\n",
       "jazz            185\n",
       "alternative     144\n",
       "reggae          126\n",
       "edm             126\n",
       "classical        33\n",
       "Name: Genre, dtype: int64"
      ]
     },
     "execution_count": 8,
     "metadata": {},
     "output_type": "execute_result"
    }
   ],
   "source": [
    "songs_df['Genre'].value_counts()"
   ]
  },
  {
   "cell_type": "code",
   "execution_count": 10,
   "id": "214a62f6",
   "metadata": {},
   "outputs": [
    {
     "name": "stdout",
     "output_type": "stream",
     "text": [
      "                     Artist              Title  Top100  Danceability  Energy  \\\n",
      "0               linkin park         in the end       0         0.556   0.864   \n",
      "1         the white stripes  seven nation army       0         0.737   0.463   \n",
      "2     red hot chili peppers         by the way       0         0.618   0.938   \n",
      "3               evanescence   bring me to life       0         0.331   0.943   \n",
      "4                papa roach        last resort       0         0.589   0.890   \n",
      "...                     ...                ...     ...           ...     ...   \n",
      "9221           daddy yankee               dura       1         0.783   0.840   \n",
      "9222           xxxtentacion            changes       1         0.669   0.308   \n",
      "9223             luke combs    one number away       1         0.544   0.781   \n",
      "9224           rae sremmurd         powerglide       1         0.713   0.831   \n",
      "9225               dua lipa              idgaf       1         0.836   0.544   \n",
      "\n",
      "      Liveness     Tempo                                             lyrics  \\\n",
      "0       0.2090  0.345391  It starts with\\nOne thing I don't know why\\nIt...   \n",
      "1       0.2550  0.455924  I'm gonna fight 'em all\\nA seven nation army c...   \n",
      "2       0.1670  0.264647  Standing in line\\nTo see the show tonight\\nAnd...   \n",
      "3       0.2420  0.283270  How can you see into my eyes, like open doors?...   \n",
      "4       0.2010  0.259592  Cut my life into pieces\\nThis is my last resor...   \n",
      "...        ...       ...                                                ...   \n",
      "9221    0.4120  0.285564  Me gusta mi reggae\\nTiritiritiririti-Daddy\\n(E...   \n",
      "9222    0.0984  0.108203  Mmm, baby I don't understand this\\nYou're chan...   \n",
      "9223    0.1910  0.575045  Are you sitting at home all alone\\nTrying to f...   \n",
      "9224    0.1180  0.751262  Yeah, Yeah, Yeah\\nMike WiLL Made-It\\nYeah, Yea...   \n",
      "9225    0.0824  0.297521  You call me all friendly\\nTellin' me how much ...   \n",
      "\n",
      "      explicit  Release_Year  Genre_alternative  Genre_classical  \\\n",
      "0            0          2000                  0                0   \n",
      "1            1          2003                  0                0   \n",
      "2            1          2002                  0                0   \n",
      "3            0          2003                  1                0   \n",
      "4            1          2001                  0                0   \n",
      "...        ...           ...                ...              ...   \n",
      "9221         0          2018                  0                0   \n",
      "9222         0          2018                  0                0   \n",
      "9223         0          2017                  0                0   \n",
      "9224         1          2018                  0                0   \n",
      "9225         1          2017                  0                0   \n",
      "\n",
      "      Genre_country  Genre_edm  Genre_jazz  Genre_metal  Genre_pop  Genre_rap  \\\n",
      "0                 0          0           0            1          0          0   \n",
      "1                 0          0           0            0          0          0   \n",
      "2                 0          0           0            0          0          0   \n",
      "3                 0          0           0            0          0          0   \n",
      "4                 0          0           0            1          0          0   \n",
      "...             ...        ...         ...          ...        ...        ...   \n",
      "9221              0          0           0            0          0          0   \n",
      "9222              0          0           0            0          0          1   \n",
      "9223              1          0           0            0          0          0   \n",
      "9224              0          0           0            0          0          1   \n",
      "9225              0          0           0            0          1          0   \n",
      "\n",
      "      Genre_reggae  Genre_rock  \n",
      "0                0           0  \n",
      "1                0           1  \n",
      "2                0           1  \n",
      "3                0           0  \n",
      "4                0           0  \n",
      "...            ...         ...  \n",
      "9221             1           0  \n",
      "9222             0           0  \n",
      "9223             0           0  \n",
      "9224             0           0  \n",
      "9225             0           0  \n",
      "\n",
      "[9226 rows x 20 columns]\n"
     ]
    }
   ],
   "source": [
    "one_hot_genre = pd.get_dummies(songs_df,columns=['Genre'])\n",
    "print(one_hot_genre)"
   ]
  },
  {
   "cell_type": "code",
   "execution_count": 11,
   "id": "7096c8c6",
   "metadata": {},
   "outputs": [],
   "source": [
    "one_hot_genre.to_csv(\"data_final.csv\")"
   ]
  }
 ],
 "metadata": {
  "kernelspec": {
   "display_name": "Python 3 (ipykernel)",
   "language": "python",
   "name": "python3"
  },
  "language_info": {
   "codemirror_mode": {
    "name": "ipython",
    "version": 3
   },
   "file_extension": ".py",
   "mimetype": "text/x-python",
   "name": "python",
   "nbconvert_exporter": "python",
   "pygments_lexer": "ipython3",
   "version": "3.9.6"
  }
 },
 "nbformat": 4,
 "nbformat_minor": 5
}
